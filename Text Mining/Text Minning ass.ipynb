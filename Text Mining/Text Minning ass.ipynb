{
 "cells": [
  {
   "cell_type": "code",
   "execution_count": 1,
   "id": "605ece55",
   "metadata": {},
   "outputs": [],
   "source": [
    "import pandas as pd\n",
    "import numpy as np\n",
    "import seaborn as sns\n",
    "from matplotlib import pyplot as plt\n",
    "%matplotlib inline\n",
    "\n",
    "import re \n",
    "import nltk\n",
    "from nltk.corpus import stopwords\n",
    "from wordcloud import WordCloud,STOPWORDS\n",
    "import warnings\n",
    "warnings.filterwarnings('ignore')\n"
   ]
  },
  {
   "cell_type": "code",
   "execution_count": 2,
   "id": "d45f60bc",
   "metadata": {},
   "outputs": [
    {
     "data": {
      "text/html": [
       "<div>\n",
       "<style scoped>\n",
       "    .dataframe tbody tr th:only-of-type {\n",
       "        vertical-align: middle;\n",
       "    }\n",
       "\n",
       "    .dataframe tbody tr th {\n",
       "        vertical-align: top;\n",
       "    }\n",
       "\n",
       "    .dataframe thead th {\n",
       "        text-align: right;\n",
       "    }\n",
       "</style>\n",
       "<table border=\"1\" class=\"dataframe\">\n",
       "  <thead>\n",
       "    <tr style=\"text-align: right;\">\n",
       "      <th></th>\n",
       "      <th>Text</th>\n",
       "    </tr>\n",
       "  </thead>\n",
       "  <tbody>\n",
       "    <tr>\n",
       "      <th>0</th>\n",
       "      <td>@kunalb11 I’m an alien</td>\n",
       "    </tr>\n",
       "    <tr>\n",
       "      <th>1</th>\n",
       "      <td>@ID_AA_Carmack Ray tracing on Cyberpunk with H...</td>\n",
       "    </tr>\n",
       "    <tr>\n",
       "      <th>2</th>\n",
       "      <td>@joerogan @Spotify Great interview!</td>\n",
       "    </tr>\n",
       "    <tr>\n",
       "      <th>3</th>\n",
       "      <td>@gtera27 Doge is underestimated</td>\n",
       "    </tr>\n",
       "    <tr>\n",
       "      <th>4</th>\n",
       "      <td>@teslacn Congratulations Tesla China for amazi...</td>\n",
       "    </tr>\n",
       "    <tr>\n",
       "      <th>...</th>\n",
       "      <td>...</td>\n",
       "    </tr>\n",
       "    <tr>\n",
       "      <th>1994</th>\n",
       "      <td>@flcnhvy True, it sounds so surreal, but the n...</td>\n",
       "    </tr>\n",
       "    <tr>\n",
       "      <th>1995</th>\n",
       "      <td>@PPathole Make sure to read ur terms &amp;amp; con...</td>\n",
       "    </tr>\n",
       "    <tr>\n",
       "      <th>1996</th>\n",
       "      <td>@TeslaGong @PPathole Samwise Gamgee</td>\n",
       "    </tr>\n",
       "    <tr>\n",
       "      <th>1997</th>\n",
       "      <td>@PPathole Altho Dumb and Dumber is &lt;U+0001F525...</td>\n",
       "    </tr>\n",
       "    <tr>\n",
       "      <th>1998</th>\n",
       "      <td>Progress update August 28</td>\n",
       "    </tr>\n",
       "  </tbody>\n",
       "</table>\n",
       "<p>1999 rows × 1 columns</p>\n",
       "</div>"
      ],
      "text/plain": [
       "                                                   Text\n",
       "0                                @kunalb11 I’m an alien\n",
       "1     @ID_AA_Carmack Ray tracing on Cyberpunk with H...\n",
       "2                   @joerogan @Spotify Great interview!\n",
       "3                       @gtera27 Doge is underestimated\n",
       "4     @teslacn Congratulations Tesla China for amazi...\n",
       "...                                                 ...\n",
       "1994  @flcnhvy True, it sounds so surreal, but the n...\n",
       "1995  @PPathole Make sure to read ur terms &amp; con...\n",
       "1996                @TeslaGong @PPathole Samwise Gamgee\n",
       "1997  @PPathole Altho Dumb and Dumber is <U+0001F525...\n",
       "1998                          Progress update August 28\n",
       "\n",
       "[1999 rows x 1 columns]"
      ]
     },
     "execution_count": 2,
     "metadata": {},
     "output_type": "execute_result"
    }
   ],
   "source": [
    "raw_data = pd.read_csv(\"Elon_musk.csv\",encoding='cp1252').drop('Unnamed: 0',axis=1)\n",
    "df = raw_data.copy()\n",
    "df"
   ]
  },
  {
   "cell_type": "code",
   "execution_count": 3,
   "id": "3544f025",
   "metadata": {},
   "outputs": [
    {
     "name": "stdout",
     "output_type": "stream",
     "text": [
      "<class 'pandas.core.frame.DataFrame'>\n",
      "RangeIndex: 1999 entries, 0 to 1998\n",
      "Data columns (total 1 columns):\n",
      " #   Column  Non-Null Count  Dtype \n",
      "---  ------  --------------  ----- \n",
      " 0   Text    1999 non-null   object\n",
      "dtypes: object(1)\n",
      "memory usage: 15.7+ KB\n"
     ]
    }
   ],
   "source": [
    "df.info() "
   ]
  },
  {
   "cell_type": "code",
   "execution_count": 4,
   "id": "c079459c",
   "metadata": {},
   "outputs": [],
   "source": [
    "df.Text = df.Text.astype(str)"
   ]
  },
  {
   "cell_type": "markdown",
   "id": "350b915e",
   "metadata": {},
   "source": [
    "# Preprocessing data"
   ]
  },
  {
   "cell_type": "code",
   "execution_count": 5,
   "id": "388fe6d3",
   "metadata": {},
   "outputs": [
    {
     "data": {
      "text/html": [
       "<div>\n",
       "<style scoped>\n",
       "    .dataframe tbody tr th:only-of-type {\n",
       "        vertical-align: middle;\n",
       "    }\n",
       "\n",
       "    .dataframe tbody tr th {\n",
       "        vertical-align: top;\n",
       "    }\n",
       "\n",
       "    .dataframe thead th {\n",
       "        text-align: right;\n",
       "    }\n",
       "</style>\n",
       "<table border=\"1\" class=\"dataframe\">\n",
       "  <thead>\n",
       "    <tr style=\"text-align: right;\">\n",
       "      <th></th>\n",
       "      <th>Text</th>\n",
       "    </tr>\n",
       "  </thead>\n",
       "  <tbody>\n",
       "    <tr>\n",
       "      <th>0</th>\n",
       "      <td>I’m an alien</td>\n",
       "    </tr>\n",
       "    <tr>\n",
       "      <th>1</th>\n",
       "      <td>Aarmack Ray tracing on Cyberpunk with HDR is n...</td>\n",
       "    </tr>\n",
       "    <tr>\n",
       "      <th>2</th>\n",
       "      <td>Great interview!</td>\n",
       "    </tr>\n",
       "    <tr>\n",
       "      <th>3</th>\n",
       "      <td>Doge is underestimated</td>\n",
       "    </tr>\n",
       "    <tr>\n",
       "      <th>4</th>\n",
       "      <td>Congratulations Tesla China for amazing execu...</td>\n",
       "    </tr>\n",
       "  </tbody>\n",
       "</table>\n",
       "</div>"
      ],
      "text/plain": [
       "                                                Text\n",
       "0                                       I’m an alien\n",
       "1  Aarmack Ray tracing on Cyberpunk with HDR is n...\n",
       "2                                   Great interview!\n",
       "3                             Doge is underestimated\n",
       "4   Congratulations Tesla China for amazing execu..."
      ]
     },
     "execution_count": 5,
     "metadata": {},
     "output_type": "execute_result"
    }
   ],
   "source": [
    "# Clean The Data using RegEx\n",
    "#result = re.sub(pattern, repl, string, count=0, flags=0)\n",
    "\n",
    "def cleantext(text):\n",
    "    text = re.sub(r\"@[A-Za-z0-9]+\", \"\", text) # Remove Mentions\n",
    "    text = re.sub(r\"#\", \"\", text) # Remove Hashtags Symbol\n",
    "    text = re.sub(r\"RT[\\s]+\", \"\", text) # Remove Retweets\n",
    "    text = re.sub(r\"https?:\\/\\/\\S+\", \"\", text) # Remove The Hyper Link\n",
    "    text = re.sub(r\"_[A-Za-z0-9]\", \"\", text)#Removing underscores\n",
    "\n",
    "    \n",
    "    return text\n",
    "# Clean The Text\n",
    "df[\"Text\"] = df[\"Text\"].apply(cleantext)\n",
    "df.head()"
   ]
  },
  {
   "cell_type": "code",
   "execution_count": 6,
   "id": "bca18dc3",
   "metadata": {},
   "outputs": [
    {
     "data": {
      "text/html": [
       "<div>\n",
       "<style scoped>\n",
       "    .dataframe tbody tr th:only-of-type {\n",
       "        vertical-align: middle;\n",
       "    }\n",
       "\n",
       "    .dataframe tbody tr th {\n",
       "        vertical-align: top;\n",
       "    }\n",
       "\n",
       "    .dataframe thead th {\n",
       "        text-align: right;\n",
       "    }\n",
       "</style>\n",
       "<table border=\"1\" class=\"dataframe\">\n",
       "  <thead>\n",
       "    <tr style=\"text-align: right;\">\n",
       "      <th></th>\n",
       "      <th>Text</th>\n",
       "    </tr>\n",
       "  </thead>\n",
       "  <tbody>\n",
       "    <tr>\n",
       "      <th>1994</th>\n",
       "      <td>True, it sounds so surreal, but the negative ...</td>\n",
       "    </tr>\n",
       "    <tr>\n",
       "      <th>1995</th>\n",
       "      <td>Make sure to read ur terms &amp;amp; conditions b...</td>\n",
       "    </tr>\n",
       "    <tr>\n",
       "      <th>1996</th>\n",
       "      <td>Samwise Gamgee</td>\n",
       "    </tr>\n",
       "    <tr>\n",
       "      <th>1997</th>\n",
       "      <td>Altho Dumb and Dumber is &lt;U+0001F525&gt;&lt;U+0001F...</td>\n",
       "    </tr>\n",
       "    <tr>\n",
       "      <th>1998</th>\n",
       "      <td>Progress update August 28</td>\n",
       "    </tr>\n",
       "  </tbody>\n",
       "</table>\n",
       "</div>"
      ],
      "text/plain": [
       "                                                   Text\n",
       "1994   True, it sounds so surreal, but the negative ...\n",
       "1995   Make sure to read ur terms &amp; conditions b...\n",
       "1996                                     Samwise Gamgee\n",
       "1997   Altho Dumb and Dumber is <U+0001F525><U+0001F...\n",
       "1998                          Progress update August 28"
      ]
     },
     "execution_count": 6,
     "metadata": {},
     "output_type": "execute_result"
    }
   ],
   "source": [
    "df.tail()"
   ]
  },
  {
   "cell_type": "markdown",
   "id": "be25e60a",
   "metadata": {},
   "source": [
    "# Tweet Sentiment Values"
   ]
  },
  {
   "cell_type": "code",
   "execution_count": 11,
   "id": "e695aae1",
   "metadata": {},
   "outputs": [
    {
     "name": "stderr",
     "output_type": "stream",
     "text": [
      "[nltk_data] Downloading package vader_lexicon to\n",
      "[nltk_data]     /Users/nehachavan/nltk_data...\n"
     ]
    },
    {
     "data": {
      "text/plain": [
       "True"
      ]
     },
     "execution_count": 11,
     "metadata": {},
     "output_type": "execute_result"
    }
   ],
   "source": [
    "nltk.download('vader_lexicon')"
   ]
  },
  {
   "cell_type": "code",
   "execution_count": 12,
   "id": "cff06155",
   "metadata": {},
   "outputs": [],
   "source": [
    "from nltk.sentiment.vader import SentimentIntensityAnalyzer\n",
    "sentialz = SentimentIntensityAnalyzer()"
   ]
  },
  {
   "cell_type": "code",
   "execution_count": 13,
   "id": "3a27cc4a",
   "metadata": {},
   "outputs": [
    {
     "data": {
      "text/plain": [
       "{'neg': 0.0, 'neu': 0.185, 'pos': 0.815, 'compound': 0.6588}"
      ]
     },
     "execution_count": 13,
     "metadata": {},
     "output_type": "execute_result"
    }
   ],
   "source": [
    "sentialz.polarity_scores(df.Text.iloc[2])"
   ]
  },
  {
   "cell_type": "code",
   "execution_count": 14,
   "id": "066c385a",
   "metadata": {},
   "outputs": [],
   "source": [
    "#Function to retrieve sentiment class\n",
    "def get_senti_class(review): \n",
    "    analysis = sentialz.polarity_scores(review)\n",
    "    # set sentiment \n",
    "    if analysis[\"compound\"] > 0: \n",
    "        return 'positive'\n",
    "    elif analysis[\"compound\"] < 0: \n",
    "        return 'negative'\n",
    "    else: \n",
    "        return 'neutral'\n",
    "    \n",
    "def get_sentiment(review):\n",
    "    return pd.Series([sentialz.polarity_scores(review),get_senti_class(review)])"
   ]
  },
  {
   "cell_type": "code",
   "execution_count": 15,
   "id": "7ca07506",
   "metadata": {},
   "outputs": [
    {
     "data": {
      "text/html": [
       "<div>\n",
       "<style scoped>\n",
       "    .dataframe tbody tr th:only-of-type {\n",
       "        vertical-align: middle;\n",
       "    }\n",
       "\n",
       "    .dataframe tbody tr th {\n",
       "        vertical-align: top;\n",
       "    }\n",
       "\n",
       "    .dataframe thead th {\n",
       "        text-align: right;\n",
       "    }\n",
       "</style>\n",
       "<table border=\"1\" class=\"dataframe\">\n",
       "  <thead>\n",
       "    <tr style=\"text-align: right;\">\n",
       "      <th></th>\n",
       "      <th>Text</th>\n",
       "      <th>Scores</th>\n",
       "      <th>Sentiment</th>\n",
       "    </tr>\n",
       "  </thead>\n",
       "  <tbody>\n",
       "    <tr>\n",
       "      <th>0</th>\n",
       "      <td>I’m an alien</td>\n",
       "      <td>{'neg': 0.0, 'neu': 1.0, 'pos': 0.0, 'compound...</td>\n",
       "      <td>neutral</td>\n",
       "    </tr>\n",
       "    <tr>\n",
       "      <th>1</th>\n",
       "      <td>Aarmack Ray tracing on Cyberpunk with HDR is n...</td>\n",
       "      <td>{'neg': 0.0, 'neu': 1.0, 'pos': 0.0, 'compound...</td>\n",
       "      <td>neutral</td>\n",
       "    </tr>\n",
       "    <tr>\n",
       "      <th>2</th>\n",
       "      <td>Great interview!</td>\n",
       "      <td>{'neg': 0.0, 'neu': 0.185, 'pos': 0.815, 'comp...</td>\n",
       "      <td>positive</td>\n",
       "    </tr>\n",
       "    <tr>\n",
       "      <th>3</th>\n",
       "      <td>Doge is underestimated</td>\n",
       "      <td>{'neg': 0.512, 'neu': 0.488, 'pos': 0.0, 'comp...</td>\n",
       "      <td>negative</td>\n",
       "    </tr>\n",
       "    <tr>\n",
       "      <th>4</th>\n",
       "      <td>Congratulations Tesla China for amazing execu...</td>\n",
       "      <td>{'neg': 0.0, 'neu': 0.628, 'pos': 0.372, 'comp...</td>\n",
       "      <td>positive</td>\n",
       "    </tr>\n",
       "    <tr>\n",
       "      <th>...</th>\n",
       "      <td>...</td>\n",
       "      <td>...</td>\n",
       "      <td>...</td>\n",
       "    </tr>\n",
       "    <tr>\n",
       "      <th>1994</th>\n",
       "      <td>True, it sounds so surreal, but the negative ...</td>\n",
       "      <td>{'neg': 0.249, 'neu': 0.561, 'pos': 0.19, 'com...</td>\n",
       "      <td>negative</td>\n",
       "    </tr>\n",
       "    <tr>\n",
       "      <th>1995</th>\n",
       "      <td>Make sure to read ur terms &amp;amp; conditions b...</td>\n",
       "      <td>{'neg': 0.0, 'neu': 0.634, 'pos': 0.366, 'comp...</td>\n",
       "      <td>positive</td>\n",
       "    </tr>\n",
       "    <tr>\n",
       "      <th>1996</th>\n",
       "      <td>Samwise Gamgee</td>\n",
       "      <td>{'neg': 0.0, 'neu': 1.0, 'pos': 0.0, 'compound...</td>\n",
       "      <td>neutral</td>\n",
       "    </tr>\n",
       "    <tr>\n",
       "      <th>1997</th>\n",
       "      <td>Altho Dumb and Dumber is &lt;U+0001F525&gt;&lt;U+0001F...</td>\n",
       "      <td>{'neg': 0.592, 'neu': 0.408, 'pos': 0.0, 'comp...</td>\n",
       "      <td>negative</td>\n",
       "    </tr>\n",
       "    <tr>\n",
       "      <th>1998</th>\n",
       "      <td>Progress update August 28</td>\n",
       "      <td>{'neg': 0.0, 'neu': 0.517, 'pos': 0.483, 'comp...</td>\n",
       "      <td>positive</td>\n",
       "    </tr>\n",
       "  </tbody>\n",
       "</table>\n",
       "<p>1999 rows × 3 columns</p>\n",
       "</div>"
      ],
      "text/plain": [
       "                                                   Text  \\\n",
       "0                                          I’m an alien   \n",
       "1     Aarmack Ray tracing on Cyberpunk with HDR is n...   \n",
       "2                                      Great interview!   \n",
       "3                                Doge is underestimated   \n",
       "4      Congratulations Tesla China for amazing execu...   \n",
       "...                                                 ...   \n",
       "1994   True, it sounds so surreal, but the negative ...   \n",
       "1995   Make sure to read ur terms &amp; conditions b...   \n",
       "1996                                     Samwise Gamgee   \n",
       "1997   Altho Dumb and Dumber is <U+0001F525><U+0001F...   \n",
       "1998                          Progress update August 28   \n",
       "\n",
       "                                                 Scores Sentiment  \n",
       "0     {'neg': 0.0, 'neu': 1.0, 'pos': 0.0, 'compound...   neutral  \n",
       "1     {'neg': 0.0, 'neu': 1.0, 'pos': 0.0, 'compound...   neutral  \n",
       "2     {'neg': 0.0, 'neu': 0.185, 'pos': 0.815, 'comp...  positive  \n",
       "3     {'neg': 0.512, 'neu': 0.488, 'pos': 0.0, 'comp...  negative  \n",
       "4     {'neg': 0.0, 'neu': 0.628, 'pos': 0.372, 'comp...  positive  \n",
       "...                                                 ...       ...  \n",
       "1994  {'neg': 0.249, 'neu': 0.561, 'pos': 0.19, 'com...  negative  \n",
       "1995  {'neg': 0.0, 'neu': 0.634, 'pos': 0.366, 'comp...  positive  \n",
       "1996  {'neg': 0.0, 'neu': 1.0, 'pos': 0.0, 'compound...   neutral  \n",
       "1997  {'neg': 0.592, 'neu': 0.408, 'pos': 0.0, 'comp...  negative  \n",
       "1998  {'neg': 0.0, 'neu': 0.517, 'pos': 0.483, 'comp...  positive  \n",
       "\n",
       "[1999 rows x 3 columns]"
      ]
     },
     "execution_count": 15,
     "metadata": {},
     "output_type": "execute_result"
    }
   ],
   "source": [
    "#Applying function to all tweets\n",
    "df[[\"Scores\", \"Sentiment\"]] = df.Text.apply(get_sentiment)\n",
    "df"
   ]
  },
  {
   "cell_type": "code",
   "execution_count": 16,
   "id": "e32f1870",
   "metadata": {},
   "outputs": [
    {
     "data": {
      "text/plain": [
       "neutral     888\n",
       "positive    880\n",
       "negative    231\n",
       "Name: Sentiment, dtype: int64"
      ]
     },
     "execution_count": 16,
     "metadata": {},
     "output_type": "execute_result"
    }
   ],
   "source": [
    "comp_values = [d.get('compound') for d in df.Scores]\n",
    "df.Sentiment.value_counts()\n"
   ]
  },
  {
   "cell_type": "code",
   "execution_count": 17,
   "id": "05a3c9b8",
   "metadata": {},
   "outputs": [
    {
     "data": {
      "text/plain": [
       "<AxesSubplot:xlabel='Sentiment', ylabel='count'>"
      ]
     },
     "execution_count": 17,
     "metadata": {},
     "output_type": "execute_result"
    },
    {
     "data": {
      "image/png": "[encoded data removed]",
      "text/plain": [
       "<Figure size 432x288 with 1 Axes>"
      ]
     },
     "metadata": {
      "needs_background": "light"
     },
     "output_type": "display_data"
    }
   ],
   "source": [
    "sns.countplot(df.Sentiment,palette='cool_r') #There are very less negative comments"
   ]
  },
  {
   "cell_type": "code",
   "execution_count": 18,
   "id": "3414da65",
   "metadata": {},
   "outputs": [
    {
     "data": {
      "text/plain": [
       "<AxesSubplot:>"
      ]
     },
     "execution_count": 18,
     "metadata": {},
     "output_type": "execute_result"
    },
    {
     "data": {
      "image/png": "[encoded data removed]",
      "text/plain": [
       "<Figure size 432x288 with 1 Axes>"
      ]
     },
     "metadata": {
      "needs_background": "light"
     },
     "output_type": "display_data"
    }
   ],
   "source": [
    "sns.lineplot(data = comp_values, palette='cool_r') #Most are positive/Neutral tweets\n"
   ]
  },
  {
   "cell_type": "code",
   "execution_count": 19,
   "id": "f5c23c8b",
   "metadata": {},
   "outputs": [
    {
     "data": {
      "text/html": [
       "<div>\n",
       "<style scoped>\n",
       "    .dataframe tbody tr th:only-of-type {\n",
       "        vertical-align: middle;\n",
       "    }\n",
       "\n",
       "    .dataframe tbody tr th {\n",
       "        vertical-align: top;\n",
       "    }\n",
       "\n",
       "    .dataframe thead th {\n",
       "        text-align: right;\n",
       "    }\n",
       "</style>\n",
       "<table border=\"1\" class=\"dataframe\">\n",
       "  <thead>\n",
       "    <tr style=\"text-align: right;\">\n",
       "      <th></th>\n",
       "      <th>Text</th>\n",
       "      <th>Scores</th>\n",
       "      <th>Sentiment</th>\n",
       "    </tr>\n",
       "  </thead>\n",
       "  <tbody>\n",
       "    <tr>\n",
       "      <th>3</th>\n",
       "      <td>Doge is underestimated</td>\n",
       "      <td>{'neg': 0.512, 'neu': 0.488, 'pos': 0.0, 'comp...</td>\n",
       "      <td>negative</td>\n",
       "    </tr>\n",
       "    <tr>\n",
       "      <th>6</th>\n",
       "      <td>Frodo was the underdoge,\\nAll thought he would...</td>\n",
       "      <td>{'neg': 0.226, 'neu': 0.774, 'pos': 0.0, 'comp...</td>\n",
       "      <td>negative</td>\n",
       "    </tr>\n",
       "    <tr>\n",
       "      <th>15</th>\n",
       "      <td>He definitely has issues, but the sentencing ...</td>\n",
       "      <td>{'neg': 0.162, 'neu': 0.681, 'pos': 0.157, 'co...</td>\n",
       "      <td>negative</td>\n",
       "    </tr>\n",
       "    <tr>\n",
       "      <th>20</th>\n",
       "      <td>Any crypto wallet that won’t give you your pr...</td>\n",
       "      <td>{'neg': 0.138, 'neu': 0.862, 'pos': 0.0, 'comp...</td>\n",
       "      <td>negative</td>\n",
       "    </tr>\n",
       "    <tr>\n",
       "      <th>21</th>\n",
       "      <td>Your app sucks</td>\n",
       "      <td>{'neg': 0.556, 'neu': 0.444, 'pos': 0.0, 'comp...</td>\n",
       "      <td>negative</td>\n",
       "    </tr>\n",
       "    <tr>\n",
       "      <th>...</th>\n",
       "      <td>...</td>\n",
       "      <td>...</td>\n",
       "      <td>...</td>\n",
       "    </tr>\n",
       "    <tr>\n",
       "      <th>1965</th>\n",
       "      <td>That is the near-term danger of AI</td>\n",
       "      <td>{'neg': 0.362, 'neu': 0.638, 'pos': 0.0, 'comp...</td>\n",
       "      <td>negative</td>\n",
       "    </tr>\n",
       "    <tr>\n",
       "      <th>1975</th>\n",
       "      <td>Death is the loss of information</td>\n",
       "      <td>{'neg': 0.608, 'neu': 0.392, 'pos': 0.0, 'comp...</td>\n",
       "      <td>negative</td>\n",
       "    </tr>\n",
       "    <tr>\n",
       "      <th>1991</th>\n",
       "      <td>No easy way to answer this in a tweet, but he...</td>\n",
       "      <td>{'neg': 0.205, 'neu': 0.622, 'pos': 0.174, 'co...</td>\n",
       "      <td>negative</td>\n",
       "    </tr>\n",
       "    <tr>\n",
       "      <th>1994</th>\n",
       "      <td>True, it sounds so surreal, but the negative ...</td>\n",
       "      <td>{'neg': 0.249, 'neu': 0.561, 'pos': 0.19, 'com...</td>\n",
       "      <td>negative</td>\n",
       "    </tr>\n",
       "    <tr>\n",
       "      <th>1997</th>\n",
       "      <td>Altho Dumb and Dumber is &lt;U+0001F525&gt;&lt;U+0001F...</td>\n",
       "      <td>{'neg': 0.592, 'neu': 0.408, 'pos': 0.0, 'comp...</td>\n",
       "      <td>negative</td>\n",
       "    </tr>\n",
       "  </tbody>\n",
       "</table>\n",
       "<p>231 rows × 3 columns</p>\n",
       "</div>"
      ],
      "text/plain": [
       "                                                   Text  \\\n",
       "3                                Doge is underestimated   \n",
       "6     Frodo was the underdoge,\\nAll thought he would...   \n",
       "15     He definitely has issues, but the sentencing ...   \n",
       "20     Any crypto wallet that won’t give you your pr...   \n",
       "21                                       Your app sucks   \n",
       "...                                                 ...   \n",
       "1965                 That is the near-term danger of AI   \n",
       "1975                   Death is the loss of information   \n",
       "1991   No easy way to answer this in a tweet, but he...   \n",
       "1994   True, it sounds so surreal, but the negative ...   \n",
       "1997   Altho Dumb and Dumber is <U+0001F525><U+0001F...   \n",
       "\n",
       "                                                 Scores Sentiment  \n",
       "3     {'neg': 0.512, 'neu': 0.488, 'pos': 0.0, 'comp...  negative  \n",
       "6     {'neg': 0.226, 'neu': 0.774, 'pos': 0.0, 'comp...  negative  \n",
       "15    {'neg': 0.162, 'neu': 0.681, 'pos': 0.157, 'co...  negative  \n",
       "20    {'neg': 0.138, 'neu': 0.862, 'pos': 0.0, 'comp...  negative  \n",
       "21    {'neg': 0.556, 'neu': 0.444, 'pos': 0.0, 'comp...  negative  \n",
       "...                                                 ...       ...  \n",
       "1965  {'neg': 0.362, 'neu': 0.638, 'pos': 0.0, 'comp...  negative  \n",
       "1975  {'neg': 0.608, 'neu': 0.392, 'pos': 0.0, 'comp...  negative  \n",
       "1991  {'neg': 0.205, 'neu': 0.622, 'pos': 0.174, 'co...  negative  \n",
       "1994  {'neg': 0.249, 'neu': 0.561, 'pos': 0.19, 'com...  negative  \n",
       "1997  {'neg': 0.592, 'neu': 0.408, 'pos': 0.0, 'comp...  negative  \n",
       "\n",
       "[231 rows x 3 columns]"
      ]
     },
     "execution_count": 19,
     "metadata": {},
     "output_type": "execute_result"
    }
   ],
   "source": [
    "df.loc[df.Sentiment=='negative']"
   ]
  },
  {
   "cell_type": "code",
   "execution_count": null,
   "id": "73de3f62",
   "metadata": {},
   "outputs": [],
   "source": []
  }
 ],
 "metadata": {
  "kernelspec": {
   "display_name": "Python 3 (ipykernel)",
   "language": "python",
   "name": "python3"
  },
  "language_info": {
   "codemirror_mode": {
    "name": "ipython",
    "version": 3
   },
   "file_extension": ".py",
   "mimetype": "text/x-python",
   "name": "python",
   "nbconvert_exporter": "python",
   "pygments_lexer": "ipython3",
   "version": "3.9.7"
  }
 },
 "nbformat": 4,
 "nbformat_minor": 5
}
